{
 "cells": [
  {
   "cell_type": "markdown",
   "id": "23c3e746",
   "metadata": {},
   "source": [
    "# Fundamentals and Applications of Machine Learning Project"
   ]
  },
  {
   "cell_type": "markdown",
   "id": "820bff52",
   "metadata": {},
   "source": [
    "## I.Introduction"
   ]
  },
  {
   "cell_type": "markdown",
   "id": "dd682ec3",
   "metadata": {},
   "source": [
    "For this project, I decided to move forward with the \"Jupyter Notebook\" tool, which I learned to use in my previous Machine Learning-related classes. I selected this strategy because it is simple to use and allows me to explain the procedures more in depth when developing my project."
   ]
  },
  {
   "cell_type": "markdown",
   "id": "6337cdd1",
   "metadata": {},
   "source": [
    "### II.Models"
   ]
  },
  {
   "cell_type": "markdown",
   "id": "4a952ed0",
   "metadata": {},
   "source": [
    "In this project, I decided to use a few models to examine the data properly. The models I used are listed below: \n",
    "> -Multiple Linear Regression\n",
    ">"
   ]
  },
  {
   "cell_type": "markdown",
   "id": "5f2debbc",
   "metadata": {},
   "source": [
    "##### II.I.Multiple Linear Regression"
   ]
  },
  {
   "cell_type": "markdown",
   "id": "9db4f1ae",
   "metadata": {},
   "source": [
    "I believe using Multiple Linear Regression is an excellent technique to begin analysing the dataset. "
   ]
  },
  {
   "cell_type": "code",
   "execution_count": null,
   "id": "6d86fb6b",
   "metadata": {},
   "outputs": [],
   "source": []
  }
 ],
 "metadata": {
  "kernelspec": {
   "display_name": "Python 3 (ipykernel)",
   "language": "python",
   "name": "python3"
  },
  "language_info": {
   "codemirror_mode": {
    "name": "ipython",
    "version": 3
   },
   "file_extension": ".py",
   "mimetype": "text/x-python",
   "name": "python",
   "nbconvert_exporter": "python",
   "pygments_lexer": "ipython3",
   "version": "3.11.2"
  }
 },
 "nbformat": 4,
 "nbformat_minor": 5
}
